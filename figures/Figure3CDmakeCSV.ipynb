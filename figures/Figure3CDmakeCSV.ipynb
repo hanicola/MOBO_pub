{
 "cells": [
  {
   "cell_type": "markdown",
   "id": "3026d108",
   "metadata": {},
   "source": [
    "### Creating CSV for Figure 3CD - PCA & Violin Plot\n",
    "\n",
    "Allows to play with the performance categories\n"
   ]
  },
  {
   "cell_type": "code",
   "execution_count": 1,
   "id": "a0f07805",
   "metadata": {},
   "outputs": [],
   "source": [
    "# imports\n",
    "import pandas as pd"
   ]
  },
  {
   "cell_type": "code",
   "execution_count": 2,
   "id": "980c10c8",
   "metadata": {},
   "outputs": [],
   "source": [
    "prelim_results_df = pd.read_csv(\"Figure3CD_prelim.csv\")"
   ]
  },
  {
   "cell_type": "code",
   "execution_count": 4,
   "id": "e7ee8703",
   "metadata": {},
   "outputs": [],
   "source": [
    "initial_growth_rate = 0.85\n",
    "initial_cost = 2210.8624803400003\n",
    "initial_production_rate = 0.02107383707725165\n",
    "max_growth = 0.85\n",
    "\n",
    "# Define performance categories\n",
    "factors = [\"cheaper optimal growth with super-opt production\", # 0\n",
    "           \"costlier optimal growth with super-opt production\", # 1\n",
    "           \"cheaper optimal growth with sub-opt production\", # 2\n",
    "           \"costlier optimal growth with sub-opt production\", # 3\n",
    "           \"sub-opt growth with super-opt production\", # 4\n",
    "           \"sub-opt growth with sub-opt production\", # 5\n",
    "           \"(almost)no growth and (almost) no production\" # 6 \"other\"\n",
    "           ]\n",
    "\n",
    "# Add a new column to store performance classifications\n",
    "prelim_results_df[\"performance\"] = \"\"\n",
    "\n",
    "# Loop over each row and categorize based on growth rate and production rate\n",
    "for index, row in prelim_results_df.iterrows():\n",
    "    growth_rate = row[\"growth rate\"]\n",
    "    production_rate = row[\"production rate\"]\n",
    "    cost = row[\"medium cost\"]\n",
    "\n",
    "    if growth_rate <= 0.05 and production_rate <= 0.0005:\n",
    "        performance = factors[6] # \"(almost)no growth and (almost) no production\" or \"\" to exclude\n",
    "    elif growth_rate >= max_growth and production_rate <= initial_production_rate and cost < initial_cost:\n",
    "        performance = factors[2] # \"cheaper optimal growth with sub-opt production\"\n",
    "    elif growth_rate >= max_growth and production_rate <= initial_production_rate and cost >= initial_cost:\n",
    "        performance = factors[3] # \"costlier optimal growth with sub-opt production\"\n",
    "    elif growth_rate >= max_growth and production_rate > initial_production_rate and cost < initial_cost:\n",
    "        performance = factors[0] # \"cheaper optimal growth with sub-opt production\"\n",
    "    elif growth_rate >= max_growth and production_rate > initial_production_rate and cost >= initial_cost:\n",
    "        performance = factors[1] # \"costlier optimal growth with super-opt production\"\n",
    "    elif growth_rate < max_growth and production_rate > initial_production_rate:\n",
    "        performance = factors[4] # \"sub-opt growth with sub-opt production\"\n",
    "    else: \n",
    "        performance = factors[5] # \"sub-opt growth with sub-opt production\"\n",
    "\n",
    "    # Assign the performance category to the dataframe\n",
    "    prelim_results_df.at[index, \"performance\"] = performance\n",
    "\n",
    "# Convert the `performance` column to a categorical type\n",
    "prelim_results_df[\"performance\"] = pd.Categorical(\n",
    "    prelim_results_df[\"performance\"], \n",
    "    categories = factors, ordered = True)\n",
    "\n",
    "# Save to CSV\n",
    "prelim_results_df.to_csv(\"Figure3CD.csv\", index = False)"
   ]
  }
 ],
 "metadata": {
  "kernelspec": {
   "display_name": "Bayesian-opt",
   "language": "python",
   "name": "python3"
  },
  "language_info": {
   "codemirror_mode": {
    "name": "ipython",
    "version": 3
   },
   "file_extension": ".py",
   "mimetype": "text/x-python",
   "name": "python",
   "nbconvert_exporter": "python",
   "pygments_lexer": "ipython3",
   "version": "3.12.5"
  }
 },
 "nbformat": 4,
 "nbformat_minor": 5
}
